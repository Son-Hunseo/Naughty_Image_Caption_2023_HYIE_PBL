{
 "cells": [
  {
   "cell_type": "code",
   "execution_count": 1,
   "id": "ac516c59-9230-48dd-bd0c-ae7d74da450f",
   "metadata": {
    "tags": []
   },
   "outputs": [],
   "source": [
    "import tiktoken"
   ]
  },
  {
   "cell_type": "code",
   "execution_count": 2,
   "id": "7145f072-1545-4eb2-889d-f9198ce33447",
   "metadata": {
    "tags": []
   },
   "outputs": [],
   "source": [
    "def num_tokens_from_string(string: str, encoding_name: str) -> int:\n",
    "    \"\"\"Returns the number of tokens in a text string.\"\"\"\n",
    "    encoding = tiktoken.get_encoding(encoding_name)\n",
    "    num_tokens = len(encoding.encode(string))\n",
    "    return num_tokens"
   ]
  },
  {
   "cell_type": "code",
   "execution_count": 3,
   "id": "f8c0fa92-7d3d-41f4-bad1-6035c3ec2db8",
   "metadata": {
    "tags": []
   },
   "outputs": [],
   "source": [
    "text = \"\"\"\n",
    "You are sentence tone converter.\n",
    "Change the tone to a teenager.\n",
    "\n",
    "Example : \n",
    "Before : A long haired cat sleeps on the hood of a car.\n",
    "After : Super cute cat with long hair is totally crashed out on the hood of a car.\n",
    "\"\"\""
   ]
  },
  {
   "cell_type": "code",
   "execution_count": 4,
   "id": "49f4ba1c-144d-4edc-a94a-f54654002a9f",
   "metadata": {
    "tags": []
   },
   "outputs": [
    {
     "data": {
      "text/plain": [
       "50"
      ]
     },
     "execution_count": 4,
     "metadata": {},
     "output_type": "execute_result"
    }
   ],
   "source": [
    "num_tokens_from_string(text, \"cl100k_base\")"
   ]
  },
  {
   "cell_type": "code",
   "execution_count": 5,
   "id": "2fefe5b0-619c-491e-a5d0-76fffa9e7d0c",
   "metadata": {},
   "outputs": [],
   "source": [
    "text = \"OMG, there's like this super cool guy and this totally rad girl, just strolling along\""
   ]
  },
  {
   "cell_type": "code",
   "execution_count": 6,
   "id": "0b7cde48-1abd-4f2b-88a5-f06e87c8ad4c",
   "metadata": {
    "tags": []
   },
   "outputs": [
    {
     "data": {
      "text/plain": [
       "20"
      ]
     },
     "execution_count": 6,
     "metadata": {},
     "output_type": "execute_result"
    }
   ],
   "source": [
    "num_tokens_from_string(text, \"cl100k_base\")"
   ]
  }
 ],
 "metadata": {
  "kernelspec": {
   "display_name": "Python 3 (ipykernel)",
   "language": "python",
   "name": "python3"
  },
  "language_info": {
   "codemirror_mode": {
    "name": "ipython",
    "version": 3
   },
   "file_extension": ".py",
   "mimetype": "text/x-python",
   "name": "python",
   "nbconvert_exporter": "python",
   "pygments_lexer": "ipython3",
   "version": "3.9.18"
  }
 },
 "nbformat": 4,
 "nbformat_minor": 5
}
