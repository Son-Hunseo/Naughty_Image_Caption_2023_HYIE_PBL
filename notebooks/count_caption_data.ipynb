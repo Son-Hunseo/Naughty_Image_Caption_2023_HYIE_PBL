{
 "cells": [
  {
   "cell_type": "code",
   "execution_count": 1,
   "id": "18644a0c-08be-49fd-b1b7-5c4a33da8d98",
   "metadata": {
    "tags": []
   },
   "outputs": [
    {
     "name": "stdout",
     "output_type": "stream",
     "text": [
      "Number of entries with 'image_id': 566747\n"
     ]
    }
   ],
   "source": [
    "import json\n",
    "\n",
    "def count_image_ids(json_file_path):\n",
    "    with open(json_file_path, 'r') as file:\n",
    "        data = json.load(file)\n",
    "\n",
    "    image_id_count = 0\n",
    "    for item in data:\n",
    "        if 'caption' in item:\n",
    "            image_id_count += 1\n",
    "\n",
    "    return image_id_count\n",
    "\n",
    "json_file_path = '../data/coco/annotations/train_caption.json'\n",
    "print(\"Number of entries with 'image_id':\", count_image_ids(json_file_path))"
   ]
  },
  {
   "cell_type": "code",
   "execution_count": 2,
   "id": "04848966-1914-4c06-8e44-b08eb840db39",
   "metadata": {
    "tags": []
   },
   "outputs": [
    {
     "name": "stdout",
     "output_type": "stream",
     "text": [
      "566747\n",
      "113287\n"
     ]
    },
    {
     "data": {
      "text/plain": [
       "True"
      ]
     },
     "execution_count": 2,
     "metadata": {},
     "output_type": "execute_result"
    }
   ],
   "source": [
    "def check_duplicates_in_image_ids(json_file_path):\n",
    "    with open(json_file_path, 'r') as file:\n",
    "        data = json.load(file)\n",
    "\n",
    "    image_ids = []\n",
    "    for item in data:\n",
    "        if 'image_id' in item:\n",
    "            image_ids.append(item['image_id'])\n",
    "\n",
    "    unique_ids = set(image_ids)\n",
    "    \n",
    "    print(len(image_ids))\n",
    "    print(len(unique_ids))\n",
    "    \n",
    "    return len(image_ids) != len(unique_ids)\n",
    "\n",
    "json_file_path = '../data/coco/annotations/train_caption.json'\n",
    "\n",
    "\n",
    "check_duplicates_in_image_ids(json_file_path)"
   ]
  },
  {
   "cell_type": "code",
   "execution_count": 3,
   "id": "e81ee719-dc1c-4b5a-9a5c-569119834087",
   "metadata": {
    "tags": []
   },
   "outputs": [
    {
     "name": "stdout",
     "output_type": "stream",
     "text": [
      "Photo of a man riding an old styled bicycle near what appears to be the Golden Gate Bridge.\n",
      "A man rides a bicycle across the river. \n",
      "Man riding on a very old version of a personal bicycle. \n",
      "A man on an old-fashioned bicycle, biking across a bridge.\n",
      "A man in a yellow coat rides an old-fashioned bicycle\n"
     ]
    }
   ],
   "source": [
    "def print_captions_for_image_id(json_file_path, target_image_id):\n",
    "    with open(json_file_path, 'r') as file:\n",
    "        data = json.load(file)\n",
    "\n",
    "    for item in data:\n",
    "        if item.get('image_id') == target_image_id:\n",
    "            caption = item.get('caption', 'No caption available')\n",
    "            print(caption)\n",
    "\n",
    "json_file_path = '../data/coco/annotations/train_caption.json'\n",
    "target_image_id = '520049'\n",
    "\n",
    "print_captions_for_image_id(json_file_path, target_image_id)"
   ]
  },
  {
   "cell_type": "markdown",
   "id": "166452e3-da8d-4c44-8460-d5d2cd68cf1e",
   "metadata": {},
   "source": [
    "### 분리한 캡션 데이터 갯수 세기"
   ]
  },
  {
   "cell_type": "code",
   "execution_count": 4,
   "id": "54584f74-ac73-4d00-b9bf-a0e42bb68e03",
   "metadata": {},
   "outputs": [
    {
     "name": "stdout",
     "output_type": "stream",
     "text": [
      "Number of entries with 'image_id': 100051\n"
     ]
    }
   ],
   "source": [
    "import json\n",
    "\n",
    "def count_image_ids(json_file_path):\n",
    "    with open(json_file_path, 'r') as file:\n",
    "        data = json.load(file)\n",
    "\n",
    "    image_id_count = 0\n",
    "    for item in data:\n",
    "        if 'caption' in item:\n",
    "            image_id_count += 1\n",
    "\n",
    "    return image_id_count\n",
    "\n",
    "json_file_path = '../data/pbl_raw/annotations/pbl_train_raw_caption_20000_100051.json'\n",
    "print(\"Number of entries with 'image_id':\", count_image_ids(json_file_path))"
   ]
  },
  {
   "cell_type": "code",
   "execution_count": null,
   "id": "90b364ab-e15b-4c69-87c9-2a0c0cf3c762",
   "metadata": {},
   "outputs": [],
   "source": []
  }
 ],
 "metadata": {
  "kernelspec": {
   "display_name": "Python 3 (ipykernel)",
   "language": "python",
   "name": "python3"
  },
  "language_info": {
   "codemirror_mode": {
    "name": "ipython",
    "version": 3
   },
   "file_extension": ".py",
   "mimetype": "text/x-python",
   "name": "python",
   "nbconvert_exporter": "python",
   "pygments_lexer": "ipython3",
   "version": "3.9.18"
  }
 },
 "nbformat": 4,
 "nbformat_minor": 5
}
