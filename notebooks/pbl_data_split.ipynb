{
 "cells": [
  {
   "cell_type": "code",
   "execution_count": 1,
   "metadata": {},
   "outputs": [],
   "source": [
    "import os \n",
    "import shutil\n",
    "import json"
   ]
  },
  {
   "cell_type": "code",
   "execution_count": 2,
   "metadata": {},
   "outputs": [],
   "source": [
    "#number of Image\n",
    "GET_NUM = 20000\n",
    "\n",
    "FROM_DATA_PATH = '../data/coco/train2014/'\n",
    "TO_DATA_PATH = '../data/pbl_raw/pbl_train_raw_data_20000_100051/'"
   ]
  },
  {
   "cell_type": "code",
   "execution_count": 3,
   "metadata": {},
   "outputs": [],
   "source": [
    "#get file\n",
    "file_list = os.listdir(FROM_DATA_PATH)\n",
    "file_list = file_list[:GET_NUM]\n",
    "\n",
    "#move image file\n",
    "for f in file_list:\n",
    "    shutil.copy(FROM_DATA_PATH + f, TO_DATA_PATH + f)"
   ]
  },
  {
   "cell_type": "code",
   "execution_count": 4,
   "metadata": {},
   "outputs": [
    {
     "name": "stdout",
     "output_type": "stream",
     "text": [
      "20000\n"
     ]
    }
   ],
   "source": [
    "title = os.listdir(TO_DATA_PATH)\n",
    "title = [t.split('.')[0] for t in title] #remove .jpg\n",
    "title = [t.split('_')[-1] for t in title] #get 0000000000009\n",
    "title = [int(t) for t in title] #get 9\n",
    "\n",
    "print(len(set(title))) #중복되는 데이터 없는 것 확인\n",
    "#print(title) #골라내야하는 id"
   ]
  },
  {
   "cell_type": "code",
   "execution_count": 5,
   "metadata": {},
   "outputs": [
    {
     "name": "stdout",
     "output_type": "stream",
     "text": [
      "566747 [{'image_id': '318556', 'id': 48, 'caption': 'A very clean and well decorated empty bathroom'}, {'image_id': '116100', 'id': 67, 'caption': 'A panoramic view of a kitchen and all of its appliances.'}, {'image_id': '318556', 'id': 126, 'caption': 'A blue and white bathroom with butterfly themed wall tiles.'}, {'image_id': '116100', 'id': 148, 'caption': 'A panoramic photo of a kitchen and dining room'}, {'image_id': '379340', 'id': 173, 'caption': 'A graffiti-ed stop sign across the street from a red car '}, {'image_id': '379340', 'id': 188, 'caption': 'A vandalized stop sign and a red beetle on the road'}, {'image_id': '318556', 'id': 219, 'caption': 'A bathroom with a border of butterflies and blue paint on the walls above it.'}, {'image_id': '318556', 'id': 255, 'caption': 'An angled view of a beautifully decorated bathroom.'}, {'image_id': '134754', 'id': 272, 'caption': 'The two people are walking down the beach.'}, {'image_id': '538480', 'id': 288, 'caption': 'A sink and a toilet inside a small bathroom.'}]\n"
     ]
    }
   ],
   "source": [
    "with open('../data/coco/annotations/train_caption.json', 'r') as f:\n",
    "    caption = json.load(f)\n",
    "\n",
    "#caption[:10]\n",
    "print(len(caption), caption[:10])"
   ]
  },
  {
   "cell_type": "code",
   "execution_count": 6,
   "metadata": {},
   "outputs": [
    {
     "name": "stdout",
     "output_type": "stream",
     "text": [
      "100051\n",
      "20000\n"
     ]
    }
   ],
   "source": [
    "#image_id\n",
    "res = []\n",
    "\n",
    "#56만개 모두 검사하며 2만개의 image_id를 가진 caption을 뽑아낸다.\n",
    "for c in caption:\n",
    "    cur_id = int(c['image_id'])\n",
    "\n",
    "    if cur_id in title:\n",
    "        res.append(c)\n",
    "        #print(c)\n",
    "\n",
    "print(len(res))\n",
    "print(len(title))\n",
    "\n",
    "#image_id였다."
   ]
  },
  {
   "cell_type": "code",
   "execution_count": 7,
   "metadata": {},
   "outputs": [
    {
     "name": "stdout",
     "output_type": "stream",
     "text": [
      "[{'image_id': '116100', 'id': 67, 'caption': 'A panoramic view of a kitchen and all of its appliances.'}, {'image_id': '116100', 'id': 148, 'caption': 'A panoramic photo of a kitchen and dining room'}, {'image_id': '134754', 'id': 272, 'caption': 'The two people are walking down the beach.'}, {'image_id': '32275', 'id': 352, 'caption': 'The vanity contains two sinks with a towel for each.'}, {'image_id': '134754', 'id': 425, 'caption': 'Two people carrying surf boards on a beach.'}, {'image_id': '25470', 'id': 519, 'caption': 'A kitchen with brown cabinets, tile backsplash, and grey counters.'}, {'image_id': '18691', 'id': 653, 'caption': 'A few people sit on a dim transportation system. '}, {'image_id': '124567', 'id': 729, 'caption': 'A cat stuck in a car with a slightly opened window.'}, {'image_id': '28231', 'id': 819, 'caption': 'A black car is near someone riding a bike.'}, {'image_id': '134754', 'id': 1022, 'caption': 'Two teenagers at a white sanded beach with surfboards.'}]\n"
     ]
    }
   ],
   "source": [
    "print(res[:10])\n",
    "\n",
    "#pbl_test_data에 있는 이미지들 <-> res 짝이 지어졌다."
   ]
  },
  {
   "cell_type": "code",
   "execution_count": 8,
   "metadata": {},
   "outputs": [],
   "source": [
    "with open('../data/pbl_raw/annotations/pbl_train_raw_caption_20000_100051.json', 'w') as f:\n",
    "    json.dump(res, f)"
   ]
  },
  {
   "cell_type": "code",
   "execution_count": null,
   "metadata": {},
   "outputs": [],
   "source": []
  }
 ],
 "metadata": {
  "kernelspec": {
   "display_name": "Python 3 (ipykernel)",
   "language": "python",
   "name": "python3"
  },
  "language_info": {
   "codemirror_mode": {
    "name": "ipython",
    "version": 3
   },
   "file_extension": ".py",
   "mimetype": "text/x-python",
   "name": "python",
   "nbconvert_exporter": "python",
   "pygments_lexer": "ipython3",
   "version": "3.9.18"
  }
 },
 "nbformat": 4,
 "nbformat_minor": 4
}
